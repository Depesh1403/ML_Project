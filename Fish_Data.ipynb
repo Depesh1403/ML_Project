{
 "cells": [
  {
   "cell_type": "markdown",
   "id": "bdd2acf5",
   "metadata": {},
   "source": [
    "### Importing required libraries\n",
    "First, we'll import all the required libraries."
   ]
  },
  {
   "cell_type": "code",
   "execution_count": 1,
   "id": "cff220e4",
   "metadata": {},
   "outputs": [],
   "source": [
    "import pandas as pd\n",
    "import numpy as np\n",
    "import matplotlib.pyplot as plt\n",
    "import seaborn as sns"
   ]
  },
  {
   "cell_type": "markdown",
   "id": "d0a3c380",
   "metadata": {},
   "source": [
    "### Read the Dataset"
   ]
  },
  {
   "cell_type": "code",
   "execution_count": 2,
   "id": "c743cccf",
   "metadata": {},
   "outputs": [
    {
     "data": {
      "text/html": [
       "<div>\n",
       "<style scoped>\n",
       "    .dataframe tbody tr th:only-of-type {\n",
       "        vertical-align: middle;\n",
       "    }\n",
       "\n",
       "    .dataframe tbody tr th {\n",
       "        vertical-align: top;\n",
       "    }\n",
       "\n",
       "    .dataframe thead th {\n",
       "        text-align: right;\n",
       "    }\n",
       "</style>\n",
       "<table border=\"1\" class=\"dataframe\">\n",
       "  <thead>\n",
       "    <tr style=\"text-align: right;\">\n",
       "      <th></th>\n",
       "      <th>Species</th>\n",
       "      <th>Weight</th>\n",
       "      <th>Length1</th>\n",
       "      <th>Length2</th>\n",
       "      <th>Length3</th>\n",
       "      <th>Height</th>\n",
       "      <th>Width</th>\n",
       "    </tr>\n",
       "  </thead>\n",
       "  <tbody>\n",
       "    <tr>\n",
       "      <th>0</th>\n",
       "      <td>Bream</td>\n",
       "      <td>242.0</td>\n",
       "      <td>23.2</td>\n",
       "      <td>25.4</td>\n",
       "      <td>30.0</td>\n",
       "      <td>11.5200</td>\n",
       "      <td>4.0200</td>\n",
       "    </tr>\n",
       "    <tr>\n",
       "      <th>1</th>\n",
       "      <td>Bream</td>\n",
       "      <td>290.0</td>\n",
       "      <td>24.0</td>\n",
       "      <td>26.3</td>\n",
       "      <td>31.2</td>\n",
       "      <td>12.4800</td>\n",
       "      <td>4.3056</td>\n",
       "    </tr>\n",
       "    <tr>\n",
       "      <th>2</th>\n",
       "      <td>Bream</td>\n",
       "      <td>340.0</td>\n",
       "      <td>23.9</td>\n",
       "      <td>26.5</td>\n",
       "      <td>31.1</td>\n",
       "      <td>12.3778</td>\n",
       "      <td>4.6961</td>\n",
       "    </tr>\n",
       "    <tr>\n",
       "      <th>3</th>\n",
       "      <td>Bream</td>\n",
       "      <td>363.0</td>\n",
       "      <td>26.3</td>\n",
       "      <td>29.0</td>\n",
       "      <td>33.5</td>\n",
       "      <td>12.7300</td>\n",
       "      <td>4.4555</td>\n",
       "    </tr>\n",
       "    <tr>\n",
       "      <th>4</th>\n",
       "      <td>Bream</td>\n",
       "      <td>430.0</td>\n",
       "      <td>26.5</td>\n",
       "      <td>29.0</td>\n",
       "      <td>34.0</td>\n",
       "      <td>12.4440</td>\n",
       "      <td>5.1340</td>\n",
       "    </tr>\n",
       "  </tbody>\n",
       "</table>\n",
       "</div>"
      ],
      "text/plain": [
       "  Species  Weight  Length1  Length2  Length3   Height   Width\n",
       "0   Bream   242.0     23.2     25.4     30.0  11.5200  4.0200\n",
       "1   Bream   290.0     24.0     26.3     31.2  12.4800  4.3056\n",
       "2   Bream   340.0     23.9     26.5     31.1  12.3778  4.6961\n",
       "3   Bream   363.0     26.3     29.0     33.5  12.7300  4.4555\n",
       "4   Bream   430.0     26.5     29.0     34.0  12.4440  5.1340"
      ]
     },
     "execution_count": 2,
     "metadata": {},
     "output_type": "execute_result"
    }
   ],
   "source": [
    "df= pd.read_csv('Fish_dataset.csv')\n",
    "df.head()"
   ]
  },
  {
   "cell_type": "markdown",
   "id": "44ed700d",
   "metadata": {},
   "source": [
    "### Data Pre-processing steps\n",
    "1) Will check shape"
   ]
  },
  {
   "cell_type": "code",
   "execution_count": 3,
   "id": "24f949a5",
   "metadata": {},
   "outputs": [
    {
     "data": {
      "text/plain": [
       "(159, 7)"
      ]
     },
     "execution_count": 3,
     "metadata": {},
     "output_type": "execute_result"
    }
   ],
   "source": [
    "df.shape"
   ]
  },
  {
   "cell_type": "code",
   "execution_count": 4,
   "id": "80dcd2c7",
   "metadata": {},
   "outputs": [
    {
     "data": {
      "text/plain": [
       "Series([], dtype: int64)"
      ]
     },
     "execution_count": 4,
     "metadata": {},
     "output_type": "execute_result"
    }
   ],
   "source": [
    "nv=df.isnull().sum()\n",
    "nv[nv>0]"
   ]
  },
  {
   "cell_type": "markdown",
   "id": "60703965",
   "metadata": {},
   "source": [
    "Observed no null values"
   ]
  },
  {
   "cell_type": "code",
   "execution_count": 5,
   "id": "4fce49c5",
   "metadata": {
    "scrolled": true
   },
   "outputs": [
    {
     "data": {
      "text/plain": [
       "float64    6\n",
       "object     1\n",
       "dtype: int64"
      ]
     },
     "execution_count": 5,
     "metadata": {},
     "output_type": "execute_result"
    }
   ],
   "source": [
    "df.dtypes.value_counts()"
   ]
  },
  {
   "cell_type": "markdown",
   "id": "83c0b97e",
   "metadata": {},
   "source": [
    "obsereved object datatype of one columns"
   ]
  },
  {
   "cell_type": "code",
   "execution_count": 6,
   "id": "a93fb4f6",
   "metadata": {
    "scrolled": true
   },
   "outputs": [
    {
     "data": {
      "text/plain": [
       "Species     object\n",
       "Weight     float64\n",
       "Length1    float64\n",
       "Length2    float64\n",
       "Length3    float64\n",
       "Height     float64\n",
       "Width      float64\n",
       "dtype: object"
      ]
     },
     "execution_count": 6,
     "metadata": {},
     "output_type": "execute_result"
    }
   ],
   "source": [
    "df.dtypes"
   ]
  },
  {
   "cell_type": "markdown",
   "id": "36ba15e8",
   "metadata": {},
   "source": [
    "obsereved object datatype of 'Species' columns"
   ]
  },
  {
   "cell_type": "code",
   "execution_count": 7,
   "id": "aeba1235",
   "metadata": {},
   "outputs": [
    {
     "data": {
      "text/plain": [
       "0"
      ]
     },
     "execution_count": 7,
     "metadata": {},
     "output_type": "execute_result"
    }
   ],
   "source": [
    "df.duplicated().sum()"
   ]
  },
  {
   "cell_type": "markdown",
   "id": "47dd2324",
   "metadata": {},
   "source": [
    "obsereved no duplicates"
   ]
  },
  {
   "cell_type": "code",
   "execution_count": 8,
   "id": "de87ac98",
   "metadata": {},
   "outputs": [
    {
     "name": "stdout",
     "output_type": "stream",
     "text": [
      "['Species']\n",
      "['Weight', 'Length1', 'Length2', 'Length3', 'Height', 'Width']\n"
     ]
    }
   ],
   "source": [
    "cat_cols = [i for i in df.columns if df[i].dtypes=='object']\n",
    "print(cat_cols)\n",
    "num_cols = [i for i in df.columns if df[i].dtypes!='object']\n",
    "print(num_cols)"
   ]
  },
  {
   "cell_type": "markdown",
   "id": "cc4c4689",
   "metadata": {},
   "source": [
    "### Catagorical columns"
   ]
  },
  {
   "cell_type": "code",
   "execution_count": 9,
   "id": "b62c481a",
   "metadata": {
    "scrolled": false
   },
   "outputs": [
    {
     "data": {
      "text/plain": [
       "Perch        56\n",
       "Bream        35\n",
       "Roach        20\n",
       "Pike         17\n",
       "Smelt        14\n",
       "Parkki       11\n",
       "Whitefish     6\n",
       "Name: Species, dtype: int64"
      ]
     },
     "execution_count": 9,
     "metadata": {},
     "output_type": "execute_result"
    }
   ],
   "source": [
    "df['Species'].value_counts()"
   ]
  },
  {
   "cell_type": "markdown",
   "id": "13c246ed",
   "metadata": {},
   "source": [
    "### Univariate Analysis\n",
    "Bar chart showing count of individual species"
   ]
  },
  {
   "cell_type": "code",
   "execution_count": 10,
   "id": "6ef300c5",
   "metadata": {},
   "outputs": [
    {
     "data": {
      "image/png": "[encoded data removed]",
      "text/plain": [
       "<Figure size 432x288 with 1 Axes>"
      ]
     },
     "metadata": {
      "needs_background": "light"
     },
     "output_type": "display_data"
    }
   ],
   "source": [
    "sns.countplot(x=df['Species'])\n",
    "plt.title('Species')\n",
    "plt.ylabel('individual species count')\n",
    "plt.show()"
   ]
  },
  {
   "cell_type": "markdown",
   "id": "7361fe99",
   "metadata": {},
   "source": [
    "#### checking outliers by plotting boxplot"
   ]
  },
  {
   "cell_type": "code",
   "execution_count": 11,
   "id": "d20aab6a",
   "metadata": {
    "scrolled": true
   },
   "outputs": [
    {
     "data": {
      "image/png": "[encoded data removed]",
      "text/plain": [
       "<Figure size 432x288 with 1 Axes>"
      ]
     },
     "metadata": {
      "needs_background": "light"
     },
     "output_type": "display_data"
    },
    {
     "data": {
      "image/png": "[encoded data removed]",
      "text/plain": [
       "<Figure size 432x288 with 1 Axes>"
      ]
     },
     "metadata": {
      "needs_background": "light"
     },
     "output_type": "display_data"
    },
    {
     "data": {
      "image/png": "[encoded data removed]",
      "text/plain": [
       "<Figure size 432x288 with 1 Axes>"
      ]
     },
     "metadata": {
      "needs_background": "light"
     },
     "output_type": "display_data"
    },
    {
     "data": {
      "image/png": "[encoded data removed]",
      "text/plain": [
       "<Figure size 432x288 with 1 Axes>"
      ]
     },
     "metadata": {
      "needs_background": "light"
     },
     "output_type": "display_data"
    },
    {
     "data": {
      "image/png": "[encoded data removed]",
      "text/plain": [
       "<Figure size 432x288 with 1 Axes>"
      ]
     },
     "metadata": {
      "needs_background": "light"
     },
     "output_type": "display_data"
    },
    {
     "data": {
      "image/png": "[encoded data removed]",
      "text/plain": [
       "<Figure size 432x288 with 1 Axes>"
      ]
     },
     "metadata": {
      "needs_background": "light"
     },
     "output_type": "display_data"
    }
   ],
   "source": [
    "for i in num_cols:\n",
    "    sns.boxplot(x=df[i])\n",
    "    plt.title(i)\n",
    "    plt.show()"
   ]
  },
  {
   "cell_type": "markdown",
   "id": "2923c142",
   "metadata": {},
   "source": [
    "### Outliers Treatment"
   ]
  },
  {
   "cell_type": "markdown",
   "id": "5781e52e",
   "metadata": {},
   "source": [
    "observed outliers in weight,Length1,Length2,Length3"
   ]
  },
  {
   "cell_type": "code",
   "execution_count": 12,
   "id": "73b7a9fe",
   "metadata": {},
   "outputs": [
    {
     "data": {
      "text/html": [
       "<div>\n",
       "<style scoped>\n",
       "    .dataframe tbody tr th:only-of-type {\n",
       "        vertical-align: middle;\n",
       "    }\n",
       "\n",
       "    .dataframe tbody tr th {\n",
       "        vertical-align: top;\n",
       "    }\n",
       "\n",
       "    .dataframe thead th {\n",
       "        text-align: right;\n",
       "    }\n",
       "</style>\n",
       "<table border=\"1\" class=\"dataframe\">\n",
       "  <thead>\n",
       "    <tr style=\"text-align: right;\">\n",
       "      <th></th>\n",
       "      <th>count</th>\n",
       "      <th>mean</th>\n",
       "      <th>std</th>\n",
       "      <th>min</th>\n",
       "      <th>1%</th>\n",
       "      <th>2%</th>\n",
       "      <th>3%</th>\n",
       "      <th>50%</th>\n",
       "      <th>97%</th>\n",
       "      <th>98%</th>\n",
       "      <th>99%</th>\n",
       "      <th>max</th>\n",
       "    </tr>\n",
       "  </thead>\n",
       "  <tbody>\n",
       "    <tr>\n",
       "      <th>Weight</th>\n",
       "      <td>159.0</td>\n",
       "      <td>398.326415</td>\n",
       "      <td>357.978317</td>\n",
       "      <td>0.0000</td>\n",
       "      <td>6.364000</td>\n",
       "      <td>7.080000</td>\n",
       "      <td>8.388000</td>\n",
       "      <td>273.0000</td>\n",
       "      <td>1100.000000</td>\n",
       "      <td>1226.000000</td>\n",
       "      <td>1571.000000</td>\n",
       "      <td>1650.000</td>\n",
       "    </tr>\n",
       "    <tr>\n",
       "      <th>Length1</th>\n",
       "      <td>159.0</td>\n",
       "      <td>26.247170</td>\n",
       "      <td>9.996441</td>\n",
       "      <td>7.5000</td>\n",
       "      <td>9.706000</td>\n",
       "      <td>10.148000</td>\n",
       "      <td>10.622000</td>\n",
       "      <td>25.2000</td>\n",
       "      <td>45.710000</td>\n",
       "      <td>51.408000</td>\n",
       "      <td>56.000000</td>\n",
       "      <td>59.000</td>\n",
       "    </tr>\n",
       "    <tr>\n",
       "      <th>Length2</th>\n",
       "      <td>159.0</td>\n",
       "      <td>28.415723</td>\n",
       "      <td>10.716328</td>\n",
       "      <td>8.4000</td>\n",
       "      <td>10.206000</td>\n",
       "      <td>10.664000</td>\n",
       "      <td>11.148000</td>\n",
       "      <td>27.3000</td>\n",
       "      <td>48.962000</td>\n",
       "      <td>55.312000</td>\n",
       "      <td>60.000000</td>\n",
       "      <td>63.400</td>\n",
       "    </tr>\n",
       "    <tr>\n",
       "      <th>Length3</th>\n",
       "      <td>159.0</td>\n",
       "      <td>31.227044</td>\n",
       "      <td>11.610246</td>\n",
       "      <td>8.8000</td>\n",
       "      <td>11.264000</td>\n",
       "      <td>11.664000</td>\n",
       "      <td>12.296000</td>\n",
       "      <td>29.4000</td>\n",
       "      <td>52.214000</td>\n",
       "      <td>58.964000</td>\n",
       "      <td>64.000000</td>\n",
       "      <td>68.000</td>\n",
       "    </tr>\n",
       "    <tr>\n",
       "      <th>Height</th>\n",
       "      <td>159.0</td>\n",
       "      <td>8.970994</td>\n",
       "      <td>4.286208</td>\n",
       "      <td>1.7284</td>\n",
       "      <td>1.874056</td>\n",
       "      <td>1.995000</td>\n",
       "      <td>2.088528</td>\n",
       "      <td>7.7860</td>\n",
       "      <td>17.730984</td>\n",
       "      <td>18.076464</td>\n",
       "      <td>18.685296</td>\n",
       "      <td>18.957</td>\n",
       "    </tr>\n",
       "    <tr>\n",
       "      <th>Width</th>\n",
       "      <td>159.0</td>\n",
       "      <td>4.417486</td>\n",
       "      <td>1.685804</td>\n",
       "      <td>1.0476</td>\n",
       "      <td>1.148400</td>\n",
       "      <td>1.160944</td>\n",
       "      <td>1.232426</td>\n",
       "      <td>4.2485</td>\n",
       "      <td>7.466976</td>\n",
       "      <td>7.491256</td>\n",
       "      <td>7.679758</td>\n",
       "      <td>8.142</td>\n",
       "    </tr>\n",
       "  </tbody>\n",
       "</table>\n",
       "</div>"
      ],
      "text/plain": [
       "         count        mean         std     min         1%         2%  \\\n",
       "Weight   159.0  398.326415  357.978317  0.0000   6.364000   7.080000   \n",
       "Length1  159.0   26.247170    9.996441  7.5000   9.706000  10.148000   \n",
       "Length2  159.0   28.415723   10.716328  8.4000  10.206000  10.664000   \n",
       "Length3  159.0   31.227044   11.610246  8.8000  11.264000  11.664000   \n",
       "Height   159.0    8.970994    4.286208  1.7284   1.874056   1.995000   \n",
       "Width    159.0    4.417486    1.685804  1.0476   1.148400   1.160944   \n",
       "\n",
       "                3%       50%          97%          98%          99%       max  \n",
       "Weight    8.388000  273.0000  1100.000000  1226.000000  1571.000000  1650.000  \n",
       "Length1  10.622000   25.2000    45.710000    51.408000    56.000000    59.000  \n",
       "Length2  11.148000   27.3000    48.962000    55.312000    60.000000    63.400  \n",
       "Length3  12.296000   29.4000    52.214000    58.964000    64.000000    68.000  \n",
       "Height    2.088528    7.7860    17.730984    18.076464    18.685296    18.957  \n",
       "Width     1.232426    4.2485     7.466976     7.491256     7.679758     8.142  "
      ]
     },
     "execution_count": 12,
     "metadata": {},
     "output_type": "execute_result"
    }
   ],
   "source": [
    "df.describe(percentiles=[0.01,0.02,0.03,0.97,0.98,0.99]).T"
   ]
  },
  {
   "cell_type": "code",
   "execution_count": 13,
   "id": "965dcd56",
   "metadata": {},
   "outputs": [],
   "source": [
    "def outlier_treatment(x):\n",
    "    x = x.clip(upper= x.quantile(0.99))\n",
    "    x = x.clip(lower = x.quantile(0.01))\n",
    "    return x"
   ]
  },
  {
   "cell_type": "code",
   "execution_count": 14,
   "id": "1d373aa0",
   "metadata": {},
   "outputs": [],
   "source": [
    "outliers_cols = ['Weight','Length1','Length2','Length3']"
   ]
  },
  {
   "cell_type": "code",
   "execution_count": 15,
   "id": "fdab45ab",
   "metadata": {},
   "outputs": [],
   "source": [
    "df[outliers_cols]= df[outliers_cols].apply(outlier_treatment)"
   ]
  },
  {
   "cell_type": "code",
   "execution_count": 16,
   "id": "69b3b22b",
   "metadata": {
    "scrolled": true
   },
   "outputs": [
    {
     "data": {
      "text/html": [
       "<div>\n",
       "<style scoped>\n",
       "    .dataframe tbody tr th:only-of-type {\n",
       "        vertical-align: middle;\n",
       "    }\n",
       "\n",
       "    .dataframe tbody tr th {\n",
       "        vertical-align: top;\n",
       "    }\n",
       "\n",
       "    .dataframe thead th {\n",
       "        text-align: right;\n",
       "    }\n",
       "</style>\n",
       "<table border=\"1\" class=\"dataframe\">\n",
       "  <thead>\n",
       "    <tr style=\"text-align: right;\">\n",
       "      <th></th>\n",
       "      <th>count</th>\n",
       "      <th>mean</th>\n",
       "      <th>std</th>\n",
       "      <th>min</th>\n",
       "      <th>1%</th>\n",
       "      <th>2%</th>\n",
       "      <th>3%</th>\n",
       "      <th>50%</th>\n",
       "      <th>97%</th>\n",
       "      <th>98%</th>\n",
       "      <th>99%</th>\n",
       "      <th>max</th>\n",
       "    </tr>\n",
       "  </thead>\n",
       "  <tbody>\n",
       "    <tr>\n",
       "      <th>Weight</th>\n",
       "      <td>159.0</td>\n",
       "      <td>397.690113</td>\n",
       "      <td>355.620530</td>\n",
       "      <td>6.3640</td>\n",
       "      <td>6.558880</td>\n",
       "      <td>7.080000</td>\n",
       "      <td>8.388000</td>\n",
       "      <td>273.0000</td>\n",
       "      <td>1100.000000</td>\n",
       "      <td>1226.000000</td>\n",
       "      <td>1558.820000</td>\n",
       "      <td>1571.000</td>\n",
       "    </tr>\n",
       "    <tr>\n",
       "      <th>Length1</th>\n",
       "      <td>159.0</td>\n",
       "      <td>26.244730</td>\n",
       "      <td>9.907738</td>\n",
       "      <td>9.7060</td>\n",
       "      <td>9.876520</td>\n",
       "      <td>10.148000</td>\n",
       "      <td>10.622000</td>\n",
       "      <td>25.2000</td>\n",
       "      <td>45.710000</td>\n",
       "      <td>51.408000</td>\n",
       "      <td>56.000000</td>\n",
       "      <td>56.000</td>\n",
       "    </tr>\n",
       "    <tr>\n",
       "      <th>Length2</th>\n",
       "      <td>159.0</td>\n",
       "      <td>28.408252</td>\n",
       "      <td>10.624292</td>\n",
       "      <td>10.2060</td>\n",
       "      <td>10.376520</td>\n",
       "      <td>10.664000</td>\n",
       "      <td>11.148000</td>\n",
       "      <td>27.3000</td>\n",
       "      <td>48.962000</td>\n",
       "      <td>55.312000</td>\n",
       "      <td>60.000000</td>\n",
       "      <td>60.000</td>\n",
       "    </tr>\n",
       "    <tr>\n",
       "      <th>Length3</th>\n",
       "      <td>159.0</td>\n",
       "      <td>31.220302</td>\n",
       "      <td>11.500323</td>\n",
       "      <td>11.2640</td>\n",
       "      <td>11.458880</td>\n",
       "      <td>11.664000</td>\n",
       "      <td>12.296000</td>\n",
       "      <td>29.4000</td>\n",
       "      <td>52.214000</td>\n",
       "      <td>58.964000</td>\n",
       "      <td>64.000000</td>\n",
       "      <td>64.000</td>\n",
       "    </tr>\n",
       "    <tr>\n",
       "      <th>Height</th>\n",
       "      <td>159.0</td>\n",
       "      <td>8.970994</td>\n",
       "      <td>4.286208</td>\n",
       "      <td>1.7284</td>\n",
       "      <td>1.874056</td>\n",
       "      <td>1.995000</td>\n",
       "      <td>2.088528</td>\n",
       "      <td>7.7860</td>\n",
       "      <td>17.730984</td>\n",
       "      <td>18.076464</td>\n",
       "      <td>18.685296</td>\n",
       "      <td>18.957</td>\n",
       "    </tr>\n",
       "    <tr>\n",
       "      <th>Width</th>\n",
       "      <td>159.0</td>\n",
       "      <td>4.417486</td>\n",
       "      <td>1.685804</td>\n",
       "      <td>1.0476</td>\n",
       "      <td>1.148400</td>\n",
       "      <td>1.160944</td>\n",
       "      <td>1.232426</td>\n",
       "      <td>4.2485</td>\n",
       "      <td>7.466976</td>\n",
       "      <td>7.491256</td>\n",
       "      <td>7.679758</td>\n",
       "      <td>8.142</td>\n",
       "    </tr>\n",
       "  </tbody>\n",
       "</table>\n",
       "</div>"
      ],
      "text/plain": [
       "         count        mean         std      min         1%         2%  \\\n",
       "Weight   159.0  397.690113  355.620530   6.3640   6.558880   7.080000   \n",
       "Length1  159.0   26.244730    9.907738   9.7060   9.876520  10.148000   \n",
       "Length2  159.0   28.408252   10.624292  10.2060  10.376520  10.664000   \n",
       "Length3  159.0   31.220302   11.500323  11.2640  11.458880  11.664000   \n",
       "Height   159.0    8.970994    4.286208   1.7284   1.874056   1.995000   \n",
       "Width    159.0    4.417486    1.685804   1.0476   1.148400   1.160944   \n",
       "\n",
       "                3%       50%          97%          98%          99%       max  \n",
       "Weight    8.388000  273.0000  1100.000000  1226.000000  1558.820000  1571.000  \n",
       "Length1  10.622000   25.2000    45.710000    51.408000    56.000000    56.000  \n",
       "Length2  11.148000   27.3000    48.962000    55.312000    60.000000    60.000  \n",
       "Length3  12.296000   29.4000    52.214000    58.964000    64.000000    64.000  \n",
       "Height    2.088528    7.7860    17.730984    18.076464    18.685296    18.957  \n",
       "Width     1.232426    4.2485     7.466976     7.491256     7.679758     8.142  "
      ]
     },
     "execution_count": 16,
     "metadata": {},
     "output_type": "execute_result"
    }
   ],
   "source": [
    "df.describe(percentiles=[0.01,0.02,0.03,0.97,0.98,0.99]).T"
   ]
  },
  {
   "cell_type": "markdown",
   "id": "a805ed2b",
   "metadata": {},
   "source": [
    "### Bi-Variate Analysis"
   ]
  },
  {
   "cell_type": "markdown",
   "id": "46d6cf71",
   "metadata": {},
   "source": [
    "Checking linearity in all the columns"
   ]
  },
  {
   "cell_type": "code",
   "execution_count": 17,
   "id": "2a9dda51",
   "metadata": {},
   "outputs": [
    {
     "data": {
      "image/png": "[encoded data removed]",
      "text/plain": [
       "<Figure size 1080x1080 with 42 Axes>"
      ]
     },
     "metadata": {
      "needs_background": "light"
     },
     "output_type": "display_data"
    }
   ],
   "source": [
    "sns.pairplot(df)\n",
    "plt.show()"
   ]
  },
  {
   "cell_type": "markdown",
   "id": "0b6a05ba",
   "metadata": {},
   "source": [
    "### Correlation"
   ]
  },
  {
   "cell_type": "code",
   "execution_count": 18,
   "id": "73a7af7d",
   "metadata": {},
   "outputs": [
    {
     "data": {
      "image/png": "[encoded data removed]",
      "text/plain": [
       "<Figure size 504x432 with 2 Axes>"
      ]
     },
     "metadata": {
      "needs_background": "light"
     },
     "output_type": "display_data"
    }
   ],
   "source": [
    "corr= df.corr()\n",
    "plt.figure(figsize=(7,6))\n",
    "sns.heatmap(corr,annot=True,cmap='coolwarm')\n",
    "plt.show()"
   ]
  },
  {
   "cell_type": "markdown",
   "id": "e77bc76e",
   "metadata": {},
   "source": [
    "Multicolinearity observed in many columns but we are not dropping the columns as the data is very small,so thr is no need to drop the smiliar columns"
   ]
  },
  {
   "cell_type": "markdown",
   "id": "8011dafd",
   "metadata": {},
   "source": [
    "### Encoding\n",
    "Encoding categorial data"
   ]
  },
  {
   "cell_type": "code",
   "execution_count": 19,
   "id": "80b9bab5",
   "metadata": {
    "scrolled": true
   },
   "outputs": [
    {
     "data": {
      "text/html": [
       "<div>\n",
       "<style scoped>\n",
       "    .dataframe tbody tr th:only-of-type {\n",
       "        vertical-align: middle;\n",
       "    }\n",
       "\n",
       "    .dataframe tbody tr th {\n",
       "        vertical-align: top;\n",
       "    }\n",
       "\n",
       "    .dataframe thead th {\n",
       "        text-align: right;\n",
       "    }\n",
       "</style>\n",
       "<table border=\"1\" class=\"dataframe\">\n",
       "  <thead>\n",
       "    <tr style=\"text-align: right;\">\n",
       "      <th></th>\n",
       "      <th>Species</th>\n",
       "      <th>Weight</th>\n",
       "      <th>Length1</th>\n",
       "      <th>Length2</th>\n",
       "      <th>Length3</th>\n",
       "      <th>Height</th>\n",
       "      <th>Width</th>\n",
       "    </tr>\n",
       "  </thead>\n",
       "  <tbody>\n",
       "    <tr>\n",
       "      <th>0</th>\n",
       "      <td>Bream</td>\n",
       "      <td>242.0</td>\n",
       "      <td>23.2</td>\n",
       "      <td>25.4</td>\n",
       "      <td>30.0</td>\n",
       "      <td>11.5200</td>\n",
       "      <td>4.0200</td>\n",
       "    </tr>\n",
       "    <tr>\n",
       "      <th>1</th>\n",
       "      <td>Bream</td>\n",
       "      <td>290.0</td>\n",
       "      <td>24.0</td>\n",
       "      <td>26.3</td>\n",
       "      <td>31.2</td>\n",
       "      <td>12.4800</td>\n",
       "      <td>4.3056</td>\n",
       "    </tr>\n",
       "    <tr>\n",
       "      <th>2</th>\n",
       "      <td>Bream</td>\n",
       "      <td>340.0</td>\n",
       "      <td>23.9</td>\n",
       "      <td>26.5</td>\n",
       "      <td>31.1</td>\n",
       "      <td>12.3778</td>\n",
       "      <td>4.6961</td>\n",
       "    </tr>\n",
       "    <tr>\n",
       "      <th>3</th>\n",
       "      <td>Bream</td>\n",
       "      <td>363.0</td>\n",
       "      <td>26.3</td>\n",
       "      <td>29.0</td>\n",
       "      <td>33.5</td>\n",
       "      <td>12.7300</td>\n",
       "      <td>4.4555</td>\n",
       "    </tr>\n",
       "    <tr>\n",
       "      <th>4</th>\n",
       "      <td>Bream</td>\n",
       "      <td>430.0</td>\n",
       "      <td>26.5</td>\n",
       "      <td>29.0</td>\n",
       "      <td>34.0</td>\n",
       "      <td>12.4440</td>\n",
       "      <td>5.1340</td>\n",
       "    </tr>\n",
       "  </tbody>\n",
       "</table>\n",
       "</div>"
      ],
      "text/plain": [
       "  Species  Weight  Length1  Length2  Length3   Height   Width\n",
       "0   Bream   242.0     23.2     25.4     30.0  11.5200  4.0200\n",
       "1   Bream   290.0     24.0     26.3     31.2  12.4800  4.3056\n",
       "2   Bream   340.0     23.9     26.5     31.1  12.3778  4.6961\n",
       "3   Bream   363.0     26.3     29.0     33.5  12.7300  4.4555\n",
       "4   Bream   430.0     26.5     29.0     34.0  12.4440  5.1340"
      ]
     },
     "execution_count": 19,
     "metadata": {},
     "output_type": "execute_result"
    }
   ],
   "source": [
    "df1=df.copy()\n",
    "df1.head()"
   ]
  },
  {
   "cell_type": "code",
   "execution_count": 20,
   "id": "0126eeee",
   "metadata": {},
   "outputs": [],
   "source": [
    "from sklearn.preprocessing import LabelEncoder"
   ]
  },
  {
   "cell_type": "code",
   "execution_count": 21,
   "id": "119e9df2",
   "metadata": {},
   "outputs": [],
   "source": [
    "lb= LabelEncoder()\n",
    "for i in cat_cols:\n",
    "    df1[i] = lb.fit_transform(df1[i])"
   ]
  },
  {
   "cell_type": "code",
   "execution_count": 22,
   "id": "35e08559",
   "metadata": {},
   "outputs": [
    {
     "data": {
      "text/plain": [
       "2    56\n",
       "0    35\n",
       "4    20\n",
       "3    17\n",
       "5    14\n",
       "1    11\n",
       "6     6\n",
       "Name: Species, dtype: int64"
      ]
     },
     "execution_count": 22,
     "metadata": {},
     "output_type": "execute_result"
    }
   ],
   "source": [
    "df1['Species'].value_counts()"
   ]
  },
  {
   "cell_type": "markdown",
   "id": "46cb6d42",
   "metadata": {},
   "source": [
    "### Splitting the data"
   ]
  },
  {
   "cell_type": "code",
   "execution_count": 23,
   "id": "0b579741",
   "metadata": {},
   "outputs": [
    {
     "data": {
      "text/html": [
       "<div>\n",
       "<style scoped>\n",
       "    .dataframe tbody tr th:only-of-type {\n",
       "        vertical-align: middle;\n",
       "    }\n",
       "\n",
       "    .dataframe tbody tr th {\n",
       "        vertical-align: top;\n",
       "    }\n",
       "\n",
       "    .dataframe thead th {\n",
       "        text-align: right;\n",
       "    }\n",
       "</style>\n",
       "<table border=\"1\" class=\"dataframe\">\n",
       "  <thead>\n",
       "    <tr style=\"text-align: right;\">\n",
       "      <th></th>\n",
       "      <th>Species</th>\n",
       "      <th>Weight</th>\n",
       "      <th>Length1</th>\n",
       "      <th>Length2</th>\n",
       "      <th>Length3</th>\n",
       "      <th>Height</th>\n",
       "      <th>Width</th>\n",
       "    </tr>\n",
       "  </thead>\n",
       "  <tbody>\n",
       "    <tr>\n",
       "      <th>0</th>\n",
       "      <td>0</td>\n",
       "      <td>242.0</td>\n",
       "      <td>23.2</td>\n",
       "      <td>25.4</td>\n",
       "      <td>30.0</td>\n",
       "      <td>11.5200</td>\n",
       "      <td>4.0200</td>\n",
       "    </tr>\n",
       "    <tr>\n",
       "      <th>1</th>\n",
       "      <td>0</td>\n",
       "      <td>290.0</td>\n",
       "      <td>24.0</td>\n",
       "      <td>26.3</td>\n",
       "      <td>31.2</td>\n",
       "      <td>12.4800</td>\n",
       "      <td>4.3056</td>\n",
       "    </tr>\n",
       "    <tr>\n",
       "      <th>2</th>\n",
       "      <td>0</td>\n",
       "      <td>340.0</td>\n",
       "      <td>23.9</td>\n",
       "      <td>26.5</td>\n",
       "      <td>31.1</td>\n",
       "      <td>12.3778</td>\n",
       "      <td>4.6961</td>\n",
       "    </tr>\n",
       "    <tr>\n",
       "      <th>3</th>\n",
       "      <td>0</td>\n",
       "      <td>363.0</td>\n",
       "      <td>26.3</td>\n",
       "      <td>29.0</td>\n",
       "      <td>33.5</td>\n",
       "      <td>12.7300</td>\n",
       "      <td>4.4555</td>\n",
       "    </tr>\n",
       "    <tr>\n",
       "      <th>4</th>\n",
       "      <td>0</td>\n",
       "      <td>430.0</td>\n",
       "      <td>26.5</td>\n",
       "      <td>29.0</td>\n",
       "      <td>34.0</td>\n",
       "      <td>12.4440</td>\n",
       "      <td>5.1340</td>\n",
       "    </tr>\n",
       "  </tbody>\n",
       "</table>\n",
       "</div>"
      ],
      "text/plain": [
       "   Species  Weight  Length1  Length2  Length3   Height   Width\n",
       "0        0   242.0     23.2     25.4     30.0  11.5200  4.0200\n",
       "1        0   290.0     24.0     26.3     31.2  12.4800  4.3056\n",
       "2        0   340.0     23.9     26.5     31.1  12.3778  4.6961\n",
       "3        0   363.0     26.3     29.0     33.5  12.7300  4.4555\n",
       "4        0   430.0     26.5     29.0     34.0  12.4440  5.1340"
      ]
     },
     "execution_count": 23,
     "metadata": {},
     "output_type": "execute_result"
    }
   ],
   "source": [
    "df1.head()"
   ]
  },
  {
   "cell_type": "code",
   "execution_count": 24,
   "id": "8bf44201",
   "metadata": {
    "scrolled": true
   },
   "outputs": [
    {
     "data": {
      "text/plain": [
       "Index(['Species', 'Weight', 'Length1', 'Length2', 'Length3', 'Height',\n",
       "       'Width'],\n",
       "      dtype='object')"
      ]
     },
     "execution_count": 24,
     "metadata": {},
     "output_type": "execute_result"
    }
   ],
   "source": [
    "df1.columns"
   ]
  },
  {
   "cell_type": "code",
   "execution_count": 25,
   "id": "ff62057b",
   "metadata": {},
   "outputs": [
    {
     "name": "stdout",
     "output_type": "stream",
     "text": [
      "(159, 6)\n",
      "(159,)\n"
     ]
    }
   ],
   "source": [
    "x = df1[['Species','Length1','Length2','Length3','Height','Width']]\n",
    "y = df1.iloc[:,1] \n",
    "print(x.shape)\n",
    "print(y.shape)"
   ]
  },
  {
   "cell_type": "markdown",
   "id": "fdcf80ee",
   "metadata": {},
   "source": [
    "Specifying value for x and y"
   ]
  },
  {
   "cell_type": "code",
   "execution_count": 26,
   "id": "21948d7d",
   "metadata": {},
   "outputs": [
    {
     "data": {
      "text/html": [
       "<div>\n",
       "<style scoped>\n",
       "    .dataframe tbody tr th:only-of-type {\n",
       "        vertical-align: middle;\n",
       "    }\n",
       "\n",
       "    .dataframe tbody tr th {\n",
       "        vertical-align: top;\n",
       "    }\n",
       "\n",
       "    .dataframe thead th {\n",
       "        text-align: right;\n",
       "    }\n",
       "</style>\n",
       "<table border=\"1\" class=\"dataframe\">\n",
       "  <thead>\n",
       "    <tr style=\"text-align: right;\">\n",
       "      <th></th>\n",
       "      <th>Species</th>\n",
       "      <th>Length1</th>\n",
       "      <th>Length2</th>\n",
       "      <th>Length3</th>\n",
       "      <th>Height</th>\n",
       "      <th>Width</th>\n",
       "    </tr>\n",
       "  </thead>\n",
       "  <tbody>\n",
       "    <tr>\n",
       "      <th>0</th>\n",
       "      <td>0</td>\n",
       "      <td>23.2</td>\n",
       "      <td>25.4</td>\n",
       "      <td>30.0</td>\n",
       "      <td>11.5200</td>\n",
       "      <td>4.0200</td>\n",
       "    </tr>\n",
       "    <tr>\n",
       "      <th>1</th>\n",
       "      <td>0</td>\n",
       "      <td>24.0</td>\n",
       "      <td>26.3</td>\n",
       "      <td>31.2</td>\n",
       "      <td>12.4800</td>\n",
       "      <td>4.3056</td>\n",
       "    </tr>\n",
       "    <tr>\n",
       "      <th>2</th>\n",
       "      <td>0</td>\n",
       "      <td>23.9</td>\n",
       "      <td>26.5</td>\n",
       "      <td>31.1</td>\n",
       "      <td>12.3778</td>\n",
       "      <td>4.6961</td>\n",
       "    </tr>\n",
       "    <tr>\n",
       "      <th>3</th>\n",
       "      <td>0</td>\n",
       "      <td>26.3</td>\n",
       "      <td>29.0</td>\n",
       "      <td>33.5</td>\n",
       "      <td>12.7300</td>\n",
       "      <td>4.4555</td>\n",
       "    </tr>\n",
       "    <tr>\n",
       "      <th>4</th>\n",
       "      <td>0</td>\n",
       "      <td>26.5</td>\n",
       "      <td>29.0</td>\n",
       "      <td>34.0</td>\n",
       "      <td>12.4440</td>\n",
       "      <td>5.1340</td>\n",
       "    </tr>\n",
       "  </tbody>\n",
       "</table>\n",
       "</div>"
      ],
      "text/plain": [
       "   Species  Length1  Length2  Length3   Height   Width\n",
       "0        0     23.2     25.4     30.0  11.5200  4.0200\n",
       "1        0     24.0     26.3     31.2  12.4800  4.3056\n",
       "2        0     23.9     26.5     31.1  12.3778  4.6961\n",
       "3        0     26.3     29.0     33.5  12.7300  4.4555\n",
       "4        0     26.5     29.0     34.0  12.4440  5.1340"
      ]
     },
     "execution_count": 26,
     "metadata": {},
     "output_type": "execute_result"
    }
   ],
   "source": [
    "x.head()"
   ]
  },
  {
   "cell_type": "code",
   "execution_count": 27,
   "id": "61c91ae2",
   "metadata": {},
   "outputs": [
    {
     "data": {
      "text/plain": [
       "0    242.0\n",
       "1    290.0\n",
       "2    340.0\n",
       "3    363.0\n",
       "4    430.0\n",
       "Name: Weight, dtype: float64"
      ]
     },
     "execution_count": 27,
     "metadata": {},
     "output_type": "execute_result"
    }
   ],
   "source": [
    "y.head()"
   ]
  },
  {
   "cell_type": "code",
   "execution_count": 28,
   "id": "733a5014",
   "metadata": {},
   "outputs": [
    {
     "name": "stdout",
     "output_type": "stream",
     "text": [
      "(119, 6)\n",
      "(40, 6)\n",
      "(119,)\n",
      "(40,)\n"
     ]
    }
   ],
   "source": [
    "from sklearn.model_selection import train_test_split\n",
    "x_train,x_test,y_train,y_test = train_test_split(x,y,test_size=0.25,random_state= 42)\n",
    "print(x_train.shape)\n",
    "print(x_test.shape)\n",
    "print(y_train.shape)\n",
    "print(y_test.shape)"
   ]
  },
  {
   "cell_type": "markdown",
   "id": "f91628b7",
   "metadata": {},
   "source": [
    "### Linear Regression"
   ]
  },
  {
   "cell_type": "code",
   "execution_count": 29,
   "id": "72fff5fd",
   "metadata": {},
   "outputs": [],
   "source": [
    "from sklearn.linear_model import LinearRegression"
   ]
  },
  {
   "cell_type": "code",
   "execution_count": 30,
   "id": "83792c47",
   "metadata": {},
   "outputs": [],
   "source": [
    "def gen_metrics(model,x_train,x_test,y_train,y_test):\n",
    "    model.fit(x_train,y_train)\n",
    "    train_score = model.score(x_train,y_train)\n",
    "    test_score = model.score(x_test,y_test)\n",
    "    y_pred = model.predict(x_test)\n",
    "    print('Prediction\\n',y_pred)\n",
    "    print('Training score',train_score)\n",
    "    print('Testing score',test_score)"
   ]
  },
  {
   "cell_type": "code",
   "execution_count": 31,
   "id": "539614d6",
   "metadata": {},
   "outputs": [
    {
     "name": "stdout",
     "output_type": "stream",
     "text": [
      "Prediction\n",
      " [  60.8938956  -107.7258095   386.74504057  401.56783722  137.40350109\n",
      "  816.66692493 -175.94155748  302.66507341  243.83890606 1132.48561135\n",
      "  585.09665496  914.11896781  582.65321997  169.15293497  666.39511705\n",
      "  819.46183599  918.17198003  347.13804244  260.33359879  581.9907141\n",
      " -134.93592055  642.45452466  524.24547221  499.13876202  826.57410938\n",
      "  924.12564337  199.39236119  400.22406637 -188.81956035 -134.09961978\n",
      "  694.12143005  -12.72577499  -15.64863076  835.58992767  320.71091539\n",
      "  151.23554182  199.57203224  142.49111808  237.09126991  840.41262848]\n",
      "Training score 0.893052952598297\n",
      "Testing score 0.9031790072474325\n"
     ]
    }
   ],
   "source": [
    "m1 = LinearRegression()\n",
    "gen_metrics(m1,x_train,x_test,y_train,y_test)"
   ]
  },
  {
   "cell_type": "code",
   "execution_count": 32,
   "id": "3d8a9dfc",
   "metadata": {
    "scrolled": true
   },
   "outputs": [
    {
     "name": "stdout",
     "output_type": "stream",
     "text": [
      "Coefficient or Slope [ 28.87888393  48.20714713  28.88614278 -48.5274598   45.81938697\n",
      "  -7.09330592]\n",
      "Intercept or Constant -621.5510187705956\n"
     ]
    }
   ],
   "source": [
    "# Y_pred = mx + c\n",
    "m = m1.coef_\n",
    "c = m1.intercept_\n",
    "print('Coefficient or Slope',m)\n",
    "print('Intercept or Constant',c)"
   ]
  },
  {
   "cell_type": "code",
   "execution_count": 33,
   "id": "a91f5b76",
   "metadata": {},
   "outputs": [
    {
     "data": {
      "text/plain": [
       "Index(['Species', 'Weight', 'Length1', 'Length2', 'Length3', 'Height',\n",
       "       'Width'],\n",
       "      dtype='object')"
      ]
     },
     "execution_count": 33,
     "metadata": {},
     "output_type": "execute_result"
    }
   ],
   "source": [
    "df1.columns"
   ]
  },
  {
   "cell_type": "code",
   "execution_count": 34,
   "id": "88404c9d",
   "metadata": {
    "scrolled": false
   },
   "outputs": [
    {
     "data": {
      "text/html": [
       "<div>\n",
       "<style scoped>\n",
       "    .dataframe tbody tr th:only-of-type {\n",
       "        vertical-align: middle;\n",
       "    }\n",
       "\n",
       "    .dataframe tbody tr th {\n",
       "        vertical-align: top;\n",
       "    }\n",
       "\n",
       "    .dataframe thead th {\n",
       "        text-align: right;\n",
       "    }\n",
       "</style>\n",
       "<table border=\"1\" class=\"dataframe\">\n",
       "  <thead>\n",
       "    <tr style=\"text-align: right;\">\n",
       "      <th></th>\n",
       "      <th>Species</th>\n",
       "      <th>Weight</th>\n",
       "      <th>Length1</th>\n",
       "      <th>Length2</th>\n",
       "      <th>Length3</th>\n",
       "      <th>Height</th>\n",
       "      <th>Width</th>\n",
       "      <th>y_pred_eqn</th>\n",
       "    </tr>\n",
       "  </thead>\n",
       "  <tbody>\n",
       "    <tr>\n",
       "      <th>0</th>\n",
       "      <td>0</td>\n",
       "      <td>242.0</td>\n",
       "      <td>23.2</td>\n",
       "      <td>25.4</td>\n",
       "      <td>30.0</td>\n",
       "      <td>11.5200</td>\n",
       "      <td>4.0200</td>\n",
       "      <td>274.063275</td>\n",
       "    </tr>\n",
       "    <tr>\n",
       "      <th>1</th>\n",
       "      <td>0</td>\n",
       "      <td>290.0</td>\n",
       "      <td>24.0</td>\n",
       "      <td>26.3</td>\n",
       "      <td>31.2</td>\n",
       "      <td>12.4800</td>\n",
       "      <td>4.3056</td>\n",
       "      <td>322.354333</td>\n",
       "    </tr>\n",
       "    <tr>\n",
       "      <th>2</th>\n",
       "      <td>0</td>\n",
       "      <td>340.0</td>\n",
       "      <td>23.9</td>\n",
       "      <td>26.5</td>\n",
       "      <td>31.1</td>\n",
       "      <td>12.3778</td>\n",
       "      <td>4.6961</td>\n",
       "      <td>320.710915</td>\n",
       "    </tr>\n",
       "    <tr>\n",
       "      <th>3</th>\n",
       "      <td>0</td>\n",
       "      <td>363.0</td>\n",
       "      <td>26.3</td>\n",
       "      <td>29.0</td>\n",
       "      <td>33.5</td>\n",
       "      <td>12.7300</td>\n",
       "      <td>4.4555</td>\n",
       "      <td>410.001759</td>\n",
       "    </tr>\n",
       "    <tr>\n",
       "      <th>4</th>\n",
       "      <td>0</td>\n",
       "      <td>430.0</td>\n",
       "      <td>26.5</td>\n",
       "      <td>29.0</td>\n",
       "      <td>34.0</td>\n",
       "      <td>12.4440</td>\n",
       "      <td>5.1340</td>\n",
       "      <td>377.462306</td>\n",
       "    </tr>\n",
       "  </tbody>\n",
       "</table>\n",
       "</div>"
      ],
      "text/plain": [
       "   Species  Weight  Length1  Length2  Length3   Height   Width  y_pred_eqn\n",
       "0        0   242.0     23.2     25.4     30.0  11.5200  4.0200  274.063275\n",
       "1        0   290.0     24.0     26.3     31.2  12.4800  4.3056  322.354333\n",
       "2        0   340.0     23.9     26.5     31.1  12.3778  4.6961  320.710915\n",
       "3        0   363.0     26.3     29.0     33.5  12.7300  4.4555  410.001759\n",
       "4        0   430.0     26.5     29.0     34.0  12.4440  5.1340  377.462306"
      ]
     },
     "execution_count": 34,
     "metadata": {},
     "output_type": "execute_result"
    }
   ],
   "source": [
    "# Y_pred = mx + c\n",
    "df1['y_pred_eqn'] = df1['Species']*m[0] + df1['Length1']*m[1] + df1['Length2']*m[2] + df1['Length3']*m[3] + df1['Height']*m[4] + df1['Width']*m[5] + c\n",
    "df1.head()"
   ]
  },
  {
   "cell_type": "markdown",
   "id": "9277ffa0",
   "metadata": {},
   "source": [
    "### mean score of the model at 95% confidence interval\n",
    "\n",
    "1) Using Ridge"
   ]
  },
  {
   "cell_type": "code",
   "execution_count": 35,
   "id": "cd256fdf",
   "metadata": {},
   "outputs": [],
   "source": [
    "from sklearn.linear_model import Ridge"
   ]
  },
  {
   "cell_type": "code",
   "execution_count": 36,
   "id": "165e6024",
   "metadata": {},
   "outputs": [
    {
     "name": "stdout",
     "output_type": "stream",
     "text": [
      "Prediction\n",
      " [  60.89644963 -107.86492582  386.76712725  401.51217209  137.53290011\n",
      "  816.58515241 -176.04083329  302.648599    243.88567321 1132.53350008\n",
      "  585.16487034  913.90580609  582.6521151   169.04825719  666.38191391\n",
      "  819.39168455  918.21806038  346.99957249  260.25288458  581.9942694\n",
      " -135.04035741  642.31623436  524.14937309  499.16780156  826.48141577\n",
      "  924.01113524  199.42275645  400.19659003 -188.91818856 -134.22260614\n",
      "  694.08315458  -12.63431922  -15.67900078  835.44886265  320.89550396\n",
      "  151.26435647  199.68699549  142.56398336  236.89802084  840.26757909]\n",
      "Training score 0.893052875868838\n",
      "Testing score 0.9031630138673814\n"
     ]
    }
   ],
   "source": [
    "# lambda = alpha\n",
    "m2 = Ridge(alpha=0.05)\n",
    "gen_metrics(m2,x_train,x_test,y_train,y_test)"
   ]
  },
  {
   "cell_type": "code",
   "execution_count": 37,
   "id": "1c9d1b85",
   "metadata": {
    "scrolled": true
   },
   "outputs": [
    {
     "name": "stdout",
     "output_type": "stream",
     "text": [
      "Coefficient or Slope [ 28.83842928  48.04175674  28.87347881 -48.37083985  45.72107891\n",
      "  -6.93597344]\n",
      "Intercept or Constant -621.4708966607577\n"
     ]
    }
   ],
   "source": [
    "# Y_pred = mx + c\n",
    "m1 = m2.coef_\n",
    "c1 = m2.intercept_\n",
    "print('Coefficient or Slope',m1)\n",
    "print('Intercept or Constant',c1)"
   ]
  },
  {
   "cell_type": "markdown",
   "id": "df1d4705",
   "metadata": {},
   "source": [
    "There is a very slight change is observed in cofficient and intercept ,mean score has no change in comparison to linear model and ridge model.\n",
    "so we are putting only one ypred_eqn"
   ]
  },
  {
   "cell_type": "code",
   "execution_count": 38,
   "id": "28c804e4",
   "metadata": {},
   "outputs": [
    {
     "data": {
      "text/html": [
       "<div>\n",
       "<style scoped>\n",
       "    .dataframe tbody tr th:only-of-type {\n",
       "        vertical-align: middle;\n",
       "    }\n",
       "\n",
       "    .dataframe tbody tr th {\n",
       "        vertical-align: top;\n",
       "    }\n",
       "\n",
       "    .dataframe thead th {\n",
       "        text-align: right;\n",
       "    }\n",
       "</style>\n",
       "<table border=\"1\" class=\"dataframe\">\n",
       "  <thead>\n",
       "    <tr style=\"text-align: right;\">\n",
       "      <th></th>\n",
       "      <th>Species</th>\n",
       "      <th>Weight</th>\n",
       "      <th>Length1</th>\n",
       "      <th>Length2</th>\n",
       "      <th>Length3</th>\n",
       "      <th>Height</th>\n",
       "      <th>Width</th>\n",
       "      <th>y_pred_eqn</th>\n",
       "      <th>y_pred_eqn2</th>\n",
       "    </tr>\n",
       "  </thead>\n",
       "  <tbody>\n",
       "    <tr>\n",
       "      <th>0</th>\n",
       "      <td>0</td>\n",
       "      <td>242.0</td>\n",
       "      <td>23.2</td>\n",
       "      <td>25.4</td>\n",
       "      <td>30.0</td>\n",
       "      <td>11.5200</td>\n",
       "      <td>4.0200</td>\n",
       "      <td>274.063275</td>\n",
       "      <td>274.183242</td>\n",
       "    </tr>\n",
       "    <tr>\n",
       "      <th>1</th>\n",
       "      <td>0</td>\n",
       "      <td>290.0</td>\n",
       "      <td>24.0</td>\n",
       "      <td>26.3</td>\n",
       "      <td>31.2</td>\n",
       "      <td>12.4800</td>\n",
       "      <td>4.3056</td>\n",
       "      <td>322.354333</td>\n",
       "      <td>322.469092</td>\n",
       "    </tr>\n",
       "    <tr>\n",
       "      <th>2</th>\n",
       "      <td>0</td>\n",
       "      <td>340.0</td>\n",
       "      <td>23.9</td>\n",
       "      <td>26.5</td>\n",
       "      <td>31.1</td>\n",
       "      <td>12.3778</td>\n",
       "      <td>4.6961</td>\n",
       "      <td>320.710915</td>\n",
       "      <td>320.895504</td>\n",
       "    </tr>\n",
       "    <tr>\n",
       "      <th>3</th>\n",
       "      <td>0</td>\n",
       "      <td>363.0</td>\n",
       "      <td>26.3</td>\n",
       "      <td>29.0</td>\n",
       "      <td>33.5</td>\n",
       "      <td>12.7300</td>\n",
       "      <td>4.4555</td>\n",
       "      <td>410.001759</td>\n",
       "      <td>410.061161</td>\n",
       "    </tr>\n",
       "    <tr>\n",
       "      <th>4</th>\n",
       "      <td>0</td>\n",
       "      <td>430.0</td>\n",
       "      <td>26.5</td>\n",
       "      <td>29.0</td>\n",
       "      <td>34.0</td>\n",
       "      <td>12.4440</td>\n",
       "      <td>5.1340</td>\n",
       "      <td>377.462306</td>\n",
       "      <td>377.701806</td>\n",
       "    </tr>\n",
       "  </tbody>\n",
       "</table>\n",
       "</div>"
      ],
      "text/plain": [
       "   Species  Weight  Length1  Length2  Length3   Height   Width  y_pred_eqn  \\\n",
       "0        0   242.0     23.2     25.4     30.0  11.5200  4.0200  274.063275   \n",
       "1        0   290.0     24.0     26.3     31.2  12.4800  4.3056  322.354333   \n",
       "2        0   340.0     23.9     26.5     31.1  12.3778  4.6961  320.710915   \n",
       "3        0   363.0     26.3     29.0     33.5  12.7300  4.4555  410.001759   \n",
       "4        0   430.0     26.5     29.0     34.0  12.4440  5.1340  377.462306   \n",
       "\n",
       "   y_pred_eqn2  \n",
       "0   274.183242  \n",
       "1   322.469092  \n",
       "2   320.895504  \n",
       "3   410.061161  \n",
       "4   377.701806  "
      ]
     },
     "execution_count": 38,
     "metadata": {},
     "output_type": "execute_result"
    }
   ],
   "source": [
    "df1['y_pred_eqn2'] = df1['Species']*m1[0] + df1['Length1']*m1[1] + df1['Length2']*m1[2] + df1['Length3']*m1[3] + df1['Height']*m1[4] + df1['Width']*m1[5] + c1\n",
    "df1.head()"
   ]
  },
  {
   "cell_type": "code",
   "execution_count": 39,
   "id": "74665962",
   "metadata": {},
   "outputs": [
    {
     "data": {
      "text/html": [
       "<div>\n",
       "<style scoped>\n",
       "    .dataframe tbody tr th:only-of-type {\n",
       "        vertical-align: middle;\n",
       "    }\n",
       "\n",
       "    .dataframe tbody tr th {\n",
       "        vertical-align: top;\n",
       "    }\n",
       "\n",
       "    .dataframe thead th {\n",
       "        text-align: right;\n",
       "    }\n",
       "</style>\n",
       "<table border=\"1\" class=\"dataframe\">\n",
       "  <thead>\n",
       "    <tr style=\"text-align: right;\">\n",
       "      <th></th>\n",
       "      <th>Species</th>\n",
       "      <th>Weight</th>\n",
       "      <th>Length1</th>\n",
       "      <th>Length2</th>\n",
       "      <th>Length3</th>\n",
       "      <th>Height</th>\n",
       "      <th>Width</th>\n",
       "      <th>y_pred_eqn</th>\n",
       "      <th>y_pred_eqn2</th>\n",
       "    </tr>\n",
       "  </thead>\n",
       "  <tbody>\n",
       "    <tr>\n",
       "      <th>0</th>\n",
       "      <td>0</td>\n",
       "      <td>242.0</td>\n",
       "      <td>23.2</td>\n",
       "      <td>25.4</td>\n",
       "      <td>30.0</td>\n",
       "      <td>11.5200</td>\n",
       "      <td>4.0200</td>\n",
       "      <td>274.063275</td>\n",
       "      <td>274.183242</td>\n",
       "    </tr>\n",
       "    <tr>\n",
       "      <th>1</th>\n",
       "      <td>0</td>\n",
       "      <td>290.0</td>\n",
       "      <td>24.0</td>\n",
       "      <td>26.3</td>\n",
       "      <td>31.2</td>\n",
       "      <td>12.4800</td>\n",
       "      <td>4.3056</td>\n",
       "      <td>322.354333</td>\n",
       "      <td>322.469092</td>\n",
       "    </tr>\n",
       "    <tr>\n",
       "      <th>2</th>\n",
       "      <td>0</td>\n",
       "      <td>340.0</td>\n",
       "      <td>23.9</td>\n",
       "      <td>26.5</td>\n",
       "      <td>31.1</td>\n",
       "      <td>12.3778</td>\n",
       "      <td>4.6961</td>\n",
       "      <td>320.710915</td>\n",
       "      <td>320.895504</td>\n",
       "    </tr>\n",
       "    <tr>\n",
       "      <th>3</th>\n",
       "      <td>0</td>\n",
       "      <td>363.0</td>\n",
       "      <td>26.3</td>\n",
       "      <td>29.0</td>\n",
       "      <td>33.5</td>\n",
       "      <td>12.7300</td>\n",
       "      <td>4.4555</td>\n",
       "      <td>410.001759</td>\n",
       "      <td>410.061161</td>\n",
       "    </tr>\n",
       "    <tr>\n",
       "      <th>4</th>\n",
       "      <td>0</td>\n",
       "      <td>430.0</td>\n",
       "      <td>26.5</td>\n",
       "      <td>29.0</td>\n",
       "      <td>34.0</td>\n",
       "      <td>12.4440</td>\n",
       "      <td>5.1340</td>\n",
       "      <td>377.462306</td>\n",
       "      <td>377.701806</td>\n",
       "    </tr>\n",
       "  </tbody>\n",
       "</table>\n",
       "</div>"
      ],
      "text/plain": [
       "   Species  Weight  Length1  Length2  Length3   Height   Width  y_pred_eqn  \\\n",
       "0        0   242.0     23.2     25.4     30.0  11.5200  4.0200  274.063275   \n",
       "1        0   290.0     24.0     26.3     31.2  12.4800  4.3056  322.354333   \n",
       "2        0   340.0     23.9     26.5     31.1  12.3778  4.6961  320.710915   \n",
       "3        0   363.0     26.3     29.0     33.5  12.7300  4.4555  410.001759   \n",
       "4        0   430.0     26.5     29.0     34.0  12.4440  5.1340  377.462306   \n",
       "\n",
       "   y_pred_eqn2  \n",
       "0   274.183242  \n",
       "1   322.469092  \n",
       "2   320.895504  \n",
       "3   410.061161  \n",
       "4   377.701806  "
      ]
     },
     "execution_count": 39,
     "metadata": {},
     "output_type": "execute_result"
    }
   ],
   "source": [
    "df1.head()"
   ]
  },
  {
   "cell_type": "markdown",
   "id": "4acb7203",
   "metadata": {},
   "source": [
    "### Fomulating new DataFrame for comparing real and predicted weights¶"
   ]
  },
  {
   "cell_type": "code",
   "execution_count": 40,
   "id": "d31fc160",
   "metadata": {},
   "outputs": [
    {
     "data": {
      "text/plain": [
       "0      274.063275\n",
       "1      322.354333\n",
       "2      320.710915\n",
       "3      410.001759\n",
       "4      377.462306\n",
       "          ...    \n",
       "154   -134.735811\n",
       "155   -107.725810\n",
       "156    -92.586237\n",
       "157    -48.401151\n",
       "158    -43.728810\n",
       "Name: y_pred_eqn, Length: 159, dtype: float64"
      ]
     },
     "execution_count": 40,
     "metadata": {},
     "output_type": "execute_result"
    }
   ],
   "source": [
    "ypred_m_LR=df1['y_pred_eqn']\n",
    "ypred_m_LR"
   ]
  },
  {
   "cell_type": "code",
   "execution_count": 41,
   "id": "18beeaf6",
   "metadata": {},
   "outputs": [
    {
     "data": {
      "text/html": [
       "<div>\n",
       "<style scoped>\n",
       "    .dataframe tbody tr th:only-of-type {\n",
       "        vertical-align: middle;\n",
       "    }\n",
       "\n",
       "    .dataframe tbody tr th {\n",
       "        vertical-align: top;\n",
       "    }\n",
       "\n",
       "    .dataframe thead th {\n",
       "        text-align: right;\n",
       "    }\n",
       "</style>\n",
       "<table border=\"1\" class=\"dataframe\">\n",
       "  <thead>\n",
       "    <tr style=\"text-align: right;\">\n",
       "      <th></th>\n",
       "      <th>ytest_wgt</th>\n",
       "      <th>ypred_m_LR</th>\n",
       "    </tr>\n",
       "  </thead>\n",
       "  <tbody>\n",
       "    <tr>\n",
       "      <th>0</th>\n",
       "      <td>242.0</td>\n",
       "      <td>274.063275</td>\n",
       "    </tr>\n",
       "    <tr>\n",
       "      <th>1</th>\n",
       "      <td>290.0</td>\n",
       "      <td>322.354333</td>\n",
       "    </tr>\n",
       "    <tr>\n",
       "      <th>2</th>\n",
       "      <td>340.0</td>\n",
       "      <td>320.710915</td>\n",
       "    </tr>\n",
       "    <tr>\n",
       "      <th>3</th>\n",
       "      <td>363.0</td>\n",
       "      <td>410.001759</td>\n",
       "    </tr>\n",
       "    <tr>\n",
       "      <th>4</th>\n",
       "      <td>430.0</td>\n",
       "      <td>377.462306</td>\n",
       "    </tr>\n",
       "    <tr>\n",
       "      <th>...</th>\n",
       "      <td>...</td>\n",
       "      <td>...</td>\n",
       "    </tr>\n",
       "    <tr>\n",
       "      <th>154</th>\n",
       "      <td>12.2</td>\n",
       "      <td>-134.735811</td>\n",
       "    </tr>\n",
       "    <tr>\n",
       "      <th>155</th>\n",
       "      <td>13.4</td>\n",
       "      <td>-107.725810</td>\n",
       "    </tr>\n",
       "    <tr>\n",
       "      <th>156</th>\n",
       "      <td>12.2</td>\n",
       "      <td>-92.586237</td>\n",
       "    </tr>\n",
       "    <tr>\n",
       "      <th>157</th>\n",
       "      <td>19.7</td>\n",
       "      <td>-48.401151</td>\n",
       "    </tr>\n",
       "    <tr>\n",
       "      <th>158</th>\n",
       "      <td>19.9</td>\n",
       "      <td>-43.728810</td>\n",
       "    </tr>\n",
       "  </tbody>\n",
       "</table>\n",
       "<p>159 rows × 2 columns</p>\n",
       "</div>"
      ],
      "text/plain": [
       "     ytest_wgt  ypred_m_LR\n",
       "0        242.0  274.063275\n",
       "1        290.0  322.354333\n",
       "2        340.0  320.710915\n",
       "3        363.0  410.001759\n",
       "4        430.0  377.462306\n",
       "..         ...         ...\n",
       "154       12.2 -134.735811\n",
       "155       13.4 -107.725810\n",
       "156       12.2  -92.586237\n",
       "157       19.7  -48.401151\n",
       "158       19.9  -43.728810\n",
       "\n",
       "[159 rows x 2 columns]"
      ]
     },
     "execution_count": 41,
     "metadata": {},
     "output_type": "execute_result"
    }
   ],
   "source": [
    "ytest_wgt=df1['Weight']\n",
    "weight_comparison=pd.DataFrame({'ytest_wgt':ytest_wgt,'ypred_m_LR':ypred_m_LR})\n",
    "weight_comparison"
   ]
  },
  {
   "cell_type": "markdown",
   "id": "69a5c564",
   "metadata": {},
   "source": [
    "### Conclusion statement:\n",
    "we are getting better results from Linear Regression model and same as from Ridge"
   ]
  }
 ],
 "metadata": {
  "kernelspec": {
   "display_name": "Python 3 (ipykernel)",
   "language": "python",
   "name": "python3"
  },
  "language_info": {
   "codemirror_mode": {
    "name": "ipython",
    "version": 3
   },
   "file_extension": ".py",
   "mimetype": "text/x-python",
   "name": "python",
   "nbconvert_exporter": "python",
   "pygments_lexer": "ipython3",
   "version": "3.9.7"
  }
 },
 "nbformat": 4,
 "nbformat_minor": 5
}
